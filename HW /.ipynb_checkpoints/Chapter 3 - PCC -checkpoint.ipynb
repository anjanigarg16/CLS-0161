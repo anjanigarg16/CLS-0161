{
 "cells": [
  {
   "cell_type": "code",
   "execution_count": 2,
   "id": "85376193",
   "metadata": {},
   "outputs": [
    {
     "name": "stdout",
     "output_type": "stream",
     "text": [
      "Rama Saesha Maheer\n"
     ]
    }
   ],
   "source": [
    "print(\"Rama\", \"Saesha\", \"Maheer\", )"
   ]
  },
  {
   "cell_type": "code",
   "execution_count": 5,
   "id": "f5168866",
   "metadata": {},
   "outputs": [
    {
     "name": "stdout",
     "output_type": "stream",
     "text": [
      "Rama is a great friend\n",
      "Saesha is a great friend\n",
      "Maheer is a great friend\n"
     ]
    }
   ],
   "source": [
    "message = \"is a great friend\"\n",
    "print(\"Rama\", message)\n",
    "print(\"Saesha\", message)\n",
    "print(\"Maheer\", message)"
   ]
  },
  {
   "cell_type": "code",
   "execution_count": 6,
   "id": "cec9d4e0",
   "metadata": {},
   "outputs": [
    {
     "name": "stdout",
     "output_type": "stream",
     "text": [
      "I would like to have a: BMW, Porche, Range Rover\n"
     ]
    }
   ],
   "source": [
    "car = \"BMW, Porche, Range Rover\" \n",
    "print( \"I would like to have a:\", car)"
   ]
  },
  {
   "cell_type": "code",
   "execution_count": 12,
   "id": "5e5fd87d",
   "metadata": {},
   "outputs": [
    {
     "name": "stdout",
     "output_type": "stream",
     "text": [
      "Michelle Obama please come to my dinner party?\n",
      "Hellen Keller please come to my dinner party?\n",
      "Beyonce please come to my dinner party?\n"
     ]
    }
   ],
   "source": [
    "guestlist = \"Michelle Obama\" , \"Hellen Keller\" , \"Beyonce\"\n",
    "print(guestlist[0], \"please come to my dinner party?\")\n",
    "print(guestlist[1], \"please come to my dinner party?\")\n",
    "print(guestlist[2], \"please come to my dinner party?\")"
   ]
  },
  {
   "cell_type": "code",
   "execution_count": 18,
   "id": "07f00633",
   "metadata": {
    "scrolled": true
   },
   "outputs": [
    {
     "ename": "AttributeError",
     "evalue": "'tuple' object has no attribute 'insert'",
     "output_type": "error",
     "traceback": [
      "\u001b[0;31m---------------------------------------------------------------------------\u001b[0m",
      "\u001b[0;31mAttributeError\u001b[0m                            Traceback (most recent call last)",
      "Cell \u001b[0;32mIn[18], line 1\u001b[0m\n\u001b[0;32m----> 1\u001b[0m guestlist\u001b[38;5;241m.\u001b[39minsert(\u001b[38;5;241m-\u001b[39m\u001b[38;5;241m0\u001b[39m,\u001b[38;5;124m\"\u001b[39m\u001b[38;5;124mQueen Elizabeth\u001b[39m\u001b[38;5;124m\"\u001b[39m)\n",
      "\u001b[0;31mAttributeError\u001b[0m: 'tuple' object has no attribute 'insert'"
     ]
    }
   ],
   "source": [
    "guestlist.insert(-0,\"Queen Elizabeth\")"
   ]
  },
  {
   "cell_type": "code",
   "execution_count": 9,
   "id": "4178dbed",
   "metadata": {},
   "outputs": [
    {
     "name": "stdout",
     "output_type": "stream",
     "text": [
      "['Thailand', 'China', 'Dubai', 'Boston', 'London']\n"
     ]
    }
   ],
   "source": [
    "locations=['Thailand', 'China', 'Dubai', 'Boston', 'London']\n",
    "print(locations)"
   ]
  },
  {
   "cell_type": "code",
   "execution_count": 10,
   "id": "9f38044a",
   "metadata": {},
   "outputs": [
    {
     "name": "stdout",
     "output_type": "stream",
     "text": [
      "['Boston', 'China', 'Dubai', 'London', 'Thailand']\n",
      "['Thailand', 'China', 'Dubai', 'Boston', 'London']\n"
     ]
    }
   ],
   "source": [
    "print(sorted(locations))\n",
    "print(locations)"
   ]
  },
  {
   "cell_type": "code",
   "execution_count": 11,
   "id": "402ce41e",
   "metadata": {},
   "outputs": [
    {
     "name": "stdout",
     "output_type": "stream",
     "text": [
      "['Thailand', 'London', 'Dubai', 'China', 'Boston']\n",
      "['Thailand', 'China', 'Dubai', 'Boston', 'London']\n"
     ]
    }
   ],
   "source": [
    "print(sorted(locations, reverse=True))\n",
    "print(locations)"
   ]
  },
  {
   "cell_type": "code",
   "execution_count": 12,
   "id": "7a3ea679",
   "metadata": {},
   "outputs": [
    {
     "name": "stdout",
     "output_type": "stream",
     "text": [
      "['Thailand', 'China', 'Dubai', 'Boston', 'London']\n",
      "['London', 'Boston', 'Dubai', 'China', 'Thailand']\n"
     ]
    }
   ],
   "source": [
    "print(locations)\n",
    "(locations.reverse())\n",
    "print(locations)"
   ]
  },
  {
   "cell_type": "code",
   "execution_count": 13,
   "id": "220a53a1",
   "metadata": {},
   "outputs": [
    {
     "name": "stdout",
     "output_type": "stream",
     "text": [
      "['Boston', 'China', 'Dubai', 'London', 'Thailand']\n",
      "['Thailand', 'London', 'Dubai', 'China', 'Boston']\n"
     ]
    }
   ],
   "source": [
    "print(sorted(locations))\n",
    "print(sorted(locations, reverse=True))\n"
   ]
  },
  {
   "cell_type": "code",
   "execution_count": null,
   "id": "212778fd",
   "metadata": {},
   "outputs": [],
   "source": []
  }
 ],
 "metadata": {
  "kernelspec": {
   "display_name": "Python 3 (ipykernel)",
   "language": "python",
   "name": "python3"
  },
  "language_info": {
   "codemirror_mode": {
    "name": "ipython",
    "version": 3
   },
   "file_extension": ".py",
   "mimetype": "text/x-python",
   "name": "python",
   "nbconvert_exporter": "python",
   "pygments_lexer": "ipython3",
   "version": "3.11.4"
  }
 },
 "nbformat": 4,
 "nbformat_minor": 5
}
