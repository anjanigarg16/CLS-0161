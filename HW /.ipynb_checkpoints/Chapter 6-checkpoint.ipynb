{
 "cells": [
  {
   "cell_type": "markdown",
   "id": "5e4459c6",
   "metadata": {},
   "source": [
    "Week 5 Python Crash Course Exercises"
   ]
  },
  {
   "cell_type": "code",
   "execution_count": 1,
   "id": "9b4bd686",
   "metadata": {},
   "outputs": [],
   "source": [
    "# 6-1, 6-2, 6-3, 6-4, 6-5, 6-7, 6-8, 6-9, 6-11"
   ]
  },
  {
   "cell_type": "markdown",
   "id": "9d2ff602",
   "metadata": {},
   "source": [
    "6.1"
   ]
  },
  {
   "cell_type": "code",
   "execution_count": 4,
   "id": "64e6203c",
   "metadata": {},
   "outputs": [
    {
     "name": "stdout",
     "output_type": "stream",
     "text": [
      "The person's first_name is Haley\n",
      "The person's Watson is \n",
      "The person's age is 20\n",
      "The person's city is New York City\n"
     ]
    }
   ],
   "source": [
    "person = {'first_name': 'Haley', 'Watson': '', 'age': '20', 'city': 'New York City'}\n",
    "\n",
    "for info in person: \n",
    "    print(\"The person's \" + info + ' is ' + person[info])"
   ]
  },
  {
   "cell_type": "markdown",
   "id": "06a94568",
   "metadata": {},
   "source": [
    "6.2"
   ]
  },
  {
   "cell_type": "code",
   "execution_count": 5,
   "id": "a0c3e495",
   "metadata": {},
   "outputs": [
    {
     "name": "stdout",
     "output_type": "stream",
     "text": [
      "Haleys's favorite number is 1.\n",
      "Nicoles's favorite number is 2.\n",
      "Maheer's favorite number is 3.\n",
      "Saesha's favorite number is 4.\n",
      "Rama's favorite number is 5.\n"
     ]
    }
   ],
   "source": [
    "favorite_numbers={'Haley':'1', 'Nicole':'2', 'Maheer':'3', 'Saesha': '4', 'Rama':'5'}\n",
    "print(\"Haleys's favorite number is \" +favorite_numbers['Haley']+\".\")\n",
    "print(\"Nicoles's favorite number is \" +favorite_numbers['Nicole']+\".\")\n",
    "print(\"Maheer's favorite number is \" +favorite_numbers['Maheer']+\".\")\n",
    "print(\"Saesha's favorite number is \" +favorite_numbers['Saesha']+\".\")\n",
    "print(\"Rama's favorite number is \" +favorite_numbers['Rama']+\".\")"
   ]
  },
  {
   "cell_type": "markdown",
   "id": "11976e51",
   "metadata": {},
   "source": [
    "6.3"
   ]
  },
  {
   "cell_type": "code",
   "execution_count": 6,
   "id": "b86aeb18",
   "metadata": {},
   "outputs": [
    {
     "name": "stdout",
     "output_type": "stream",
     "text": [
      "list: \n",
      "    collection of items in a particular order\n",
      "\n",
      "variable: \n",
      "    labels connected to a value, which is the information associated with that label\n",
      "\n",
      "string: \n",
      "    series of characters\n",
      "\n",
      "conditional test: \n",
      "    an expression that can be evaluated as true or false\n",
      "\n",
      "dictionary: \n",
      "    collection of key-value pairs\n",
      "\n"
     ]
    }
   ],
   "source": [
    "glossary = {'list': 'collection of items in a particular order', \n",
    "            'variable': 'labels connected to a value, which is the information associated with that label', \n",
    "            'string': 'series of characters',\n",
    "            'conditional test': 'an expression that can be evaluated as true or false',\n",
    "            'dictionary': 'collection of key-value pairs',\n",
    "            }\n",
    "\n",
    "print('list: \\n    ' + glossary['list'] + '\\n')\n",
    "print('variable: \\n    ' + glossary['variable'] + '\\n')\n",
    "print('string: \\n    ' + glossary['string'] + '\\n')\n",
    "print('conditional test: \\n    ' + glossary['conditional test'] + '\\n')\n",
    "print('dictionary: \\n    ' + glossary['dictionary'] + '\\n')"
   ]
  },
  {
   "cell_type": "markdown",
   "id": "91be1e19",
   "metadata": {},
   "source": [
    "6.4 "
   ]
  },
  {
   "cell_type": "code",
   "execution_count": 8,
   "id": "c87100f4",
   "metadata": {},
   "outputs": [],
   "source": [
    " python_glossary={'string':'a series of characters', 'lists':'collections of information', 'conditional_test':'check any condition of interest', 'if_statements':'code that responds one way if certain conditions are true', 'slice':'a specific group of items in a list'}"
   ]
  },
  {
   "cell_type": "code",
   "execution_count": 9,
   "id": "9c76ee12",
   "metadata": {},
   "outputs": [
    {
     "name": "stdout",
     "output_type": "stream",
     "text": [
      "\n",
      "key: string\n",
      "value: a series of characters\n",
      "\n",
      "key: lists\n",
      "value: collections of information\n",
      "\n",
      "key: conditional_test\n",
      "value: check any condition of interest\n",
      "\n",
      "key: if_statements\n",
      "value: code that responds one way if certain conditions are true\n",
      "\n",
      "key: slice\n",
      "value: a specific group of items in a list\n"
     ]
    }
   ],
   "source": [
    "  for key, value in python_glossary.items():\n",
    "    print(\"\\nkey: \" + key)\n",
    "    print(\"value: \" + value)"
   ]
  },
  {
   "cell_type": "markdown",
   "id": "2af38e95",
   "metadata": {},
   "source": [
    "6.5"
   ]
  },
  {
   "cell_type": "code",
   "execution_count": 11,
   "id": "910a91d1",
   "metadata": {},
   "outputs": [
    {
     "name": "stdout",
     "output_type": "stream",
     "text": [
      "The Nile runs through Egypt.\n",
      "The Amazon runs through Brazil.\n",
      "The Niger runs through Nigeria.\n",
      "Nile\n",
      "Amazon\n",
      "Niger\n",
      "Egypt\n",
      "Brazil\n",
      "Nigeria\n"
     ]
    }
   ],
   "source": [
    "rivers={'nile':'egypt', 'amazon':'brazil', 'niger':'nigeria'}\n",
    "for river, country in rivers.items():\n",
    "    print(\"The \" + river.title() + \" runs through \" +\n",
    "              country.title() + \".\") \n",
    "\n",
    "for river in rivers.keys():\n",
    "    print(river.title())\n",
    "\n",
    "for country in rivers.values():\n",
    "    print(country.title())"
   ]
  },
  {
   "cell_type": "markdown",
   "id": "9fe28e4b",
   "metadata": {},
   "source": [
    "6.7"
   ]
  },
  {
   "cell_type": "code",
   "execution_count": 12,
   "id": "5307d9ac",
   "metadata": {},
   "outputs": [
    {
     "name": "stdout",
     "output_type": "stream",
     "text": [
      "Maheer Gupta is 20 and lives in New York\n",
      "Nicole Smith is 20 and lives in Los Angeles\n",
      "Rama Watson is 20 and lives in Boston\n"
     ]
    }
   ],
   "source": [
    "person1 = {'first_name': 'Maheer', 'last_name': 'Gupta', 'age': '20', 'city': 'New York'}\n",
    "person2 = {'first_name': 'Nicole', 'last_name': 'Smith', 'age': '20', 'city': 'Los Angeles'}\n",
    "person3 = {'first_name': 'Rama', 'last_name': 'Watson', 'age': '20', 'city': 'Boston'}\n",
    "\n",
    "people = [person1, person2, person3]\n",
    "\n",
    "for person in people: \n",
    "    print(person['first_name'] + ' ' + person['last_name'] + ' is ' + person['age'] + ' and lives in ' + person['city'])"
   ]
  },
  {
   "cell_type": "markdown",
   "id": "7d244fe1",
   "metadata": {},
   "source": [
    "6.8"
   ]
  },
  {
   "cell_type": "code",
   "execution_count": 13,
   "id": "7ae36a22",
   "metadata": {},
   "outputs": [
    {
     "name": "stdout",
     "output_type": "stream",
     "text": [
      "The pet is poodle and their owner name is haley\n",
      "The pet is yorkie and their owner name is veronica\n",
      "The pet is golden retriever and their owner name is rama\n",
      "The pet is great dane and their owner name is nicole\n"
     ]
    }
   ],
   "source": [
    "pet1 = {'animal': 'poodle', 'owner_name': 'haley'}\n",
    "pet2 = {'animal': 'yorkie', 'owner_name': 'veronica'}\n",
    "pet3 = {'animal': 'golden retriever', 'owner_name': 'rama'}\n",
    "pet4 = {'animal': 'great dane', 'owner_name': 'nicole'}\n",
    "\n",
    "pets = [pet1, pet2, pet3, pet4]\n",
    "\n",
    "for pet in pets: \n",
    "    print('The pet is ' + pet['animal'] + ' and their owner name is ' + pet['owner_name'])"
   ]
  },
  {
   "cell_type": "markdown",
   "id": "d74c4956",
   "metadata": {},
   "source": [
    "6.9 "
   ]
  },
  {
   "cell_type": "code",
   "execution_count": 14,
   "id": "4deebf04",
   "metadata": {},
   "outputs": [
    {
     "name": "stdout",
     "output_type": "stream",
     "text": [
      "Haley loves New York City.\n",
      "Maheer loves Miami.\n",
      "Veronica loves Austin.\n"
     ]
    }
   ],
   "source": [
    "favorite_places={'haley':'new york city', 'maheer':'miami', 'veronica':'austin'}\n",
    "for people,  places in favorite_places.items():\n",
    "    print(people.title() + \" loves \" +\n",
    "              places.title() + \".\")"
   ]
  },
  {
   "cell_type": "markdown",
   "id": "5d52ff83",
   "metadata": {},
   "source": [
    "6.11"
   ]
  },
  {
   "cell_type": "code",
   "execution_count": 18,
   "id": "48c1bfd8",
   "metadata": {},
   "outputs": [
    {
     "name": "stdout",
     "output_type": "stream",
     "text": [
      "New York is in the United States, the population is 8400000, and a fact is: it is known as the city that never sleeps\n",
      "London is in the England, the population is 8900000, and a fact is: the national dish is Chicken Tika Masala\n",
      "Dubai is in the UAE, the population is 3500000, and a fact is: has the worlds tallest building\n"
     ]
    }
   ],
   "source": [
    "cities = {'new york': {\n",
    "                'country': 'United States', 'population': 8400000, 'fact': 'it is known as the city that never sleeps'\n",
    "                },\n",
    "          'london': {\n",
    "                'country': 'England', 'population': 8900000, 'fact': 'the national dish is Chicken Tika Masala'\n",
    "                 },\n",
    "          'dubai': {\n",
    "                'country': 'UAE', 'population': 3500000, 'fact': 'has the worlds tallest building'\n",
    "                }\n",
    "          }\n",
    "\n",
    "for key, value in cities.items(): \n",
    "    print(key.title() + ' is in the ' + value['country'] + ', the population is ' + str(value['population']) + ', and a fact is: ' + value['fact'])"
   ]
  },
  {
   "cell_type": "code",
   "execution_count": null,
   "id": "07311f51",
   "metadata": {},
   "outputs": [],
   "source": []
  }
 ],
 "metadata": {
  "kernelspec": {
   "display_name": "Python 3 (ipykernel)",
   "language": "python",
   "name": "python3"
  },
  "language_info": {
   "codemirror_mode": {
    "name": "ipython",
    "version": 3
   },
   "file_extension": ".py",
   "mimetype": "text/x-python",
   "name": "python",
   "nbconvert_exporter": "python",
   "pygments_lexer": "ipython3",
   "version": "3.11.4"
  }
 },
 "nbformat": 4,
 "nbformat_minor": 5
}
