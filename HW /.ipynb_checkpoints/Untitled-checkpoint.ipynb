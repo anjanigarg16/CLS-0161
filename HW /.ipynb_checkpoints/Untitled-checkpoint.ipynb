{
 "cells": [
  {
   "cell_type": "markdown",
   "id": "dc9138a6",
   "metadata": {},
   "source": [
    "## Week 6 "
   ]
  },
  {
   "cell_type": "code",
   "execution_count": 2,
   "id": "766c943e",
   "metadata": {},
   "outputs": [],
   "source": [
    "# 8-1, 8-2, 8-3, 8-5, 8-6, 8-7"
   ]
  },
  {
   "cell_type": "code",
   "execution_count": 11,
   "id": "96a309c9",
   "metadata": {},
   "outputs": [
    {
     "name": "stdout",
     "output_type": "stream",
     "text": [
      "Chapter 8 contains information about how to write functions.\n"
     ]
    }
   ],
   "source": [
    "# 8-1 Message\n",
    "def display_message():\n",
    "    print(\"Chapter 8 contains information about how to write functions.\") \n",
    "display_message()"
   ]
  },
  {
   "cell_type": "code",
   "execution_count": 13,
   "id": "6fc756aa",
   "metadata": {},
   "outputs": [
    {
     "name": "stdout",
     "output_type": "stream",
     "text": [
      "One of my favorite books is Dairy of Anne Frank.\n"
     ]
    }
   ],
   "source": [
    "# 8-2 Favorite Book\n",
    "def favorite_book(title):\n",
    "    print(f\"One of my favorite books is {title}\")\n",
    "\n",
    "favorite_book(\"Dairy of Anne Frank.\")"
   ]
  },
  {
   "cell_type": "code",
   "execution_count": 16,
   "id": "4fa82816",
   "metadata": {},
   "outputs": [
    {
     "name": "stdout",
     "output_type": "stream",
     "text": [
      "The size of the shirt is 4 inches and the message is \"I love Tufts\"\n",
      "The size of the shirt is 6 inches and the message is \"I love Boston\"\n"
     ]
    }
   ],
   "source": [
    "# 8-3 T-Shirt\n",
    "def make_shirt(size, text):\n",
    "    print(f'The size of the shirt is {size} inches and the message is \"{text}\"')\n",
    "\n",
    "make_shirt(4, \"I love Tufts\")\n",
    "\n",
    "make_shirt(size=6, text='I love Boston')"
   ]
  },
  {
   "cell_type": "code",
   "execution_count": 17,
   "id": "65982714",
   "metadata": {},
   "outputs": [
    {
     "name": "stdout",
     "output_type": "stream",
     "text": [
      "New York City is in USA\n",
      "Boston is in USA\n",
      "London is in United Kingdom\n"
     ]
    }
   ],
   "source": [
    "# 8-5 Cities\n",
    "def describe_city(city, country='USA'):\n",
    "    print(f\"{city} is in {country}\")\n",
    "\n",
    "describe_city('New York City', 'USA')\n",
    "describe_city('Boston', 'USA')\n",
    "describe_city('London', 'United Kingdom')"
   ]
  },
  {
   "cell_type": "code",
   "execution_count": 19,
   "id": "ee17c412",
   "metadata": {},
   "outputs": [
    {
     "name": "stdout",
     "output_type": "stream",
     "text": [
      "Dubai, UAE\n",
      "London, United Kingdom\n",
      "Tokyo, Japan\n"
     ]
    }
   ],
   "source": [
    "# 8-6 City Names\n",
    "def city_country(city, country):\n",
    "    formatted_string = f\"{city}, {country}\"\n",
    "    return formatted_string\n",
    "\n",
    "pair1 = city_country('Dubai', 'UAE')\n",
    "pair2 = city_country('London','United Kingdom')\n",
    "pair3 = city_country('Tokyo', 'Japan')\n",
    "\n",
    "print(pair1)\n",
    "print(pair2)\n",
    "print(pair3)"
   ]
  },
  {
   "cell_type": "code",
   "execution_count": 21,
   "id": "c23826dc",
   "metadata": {},
   "outputs": [
    {
     "name": "stdout",
     "output_type": "stream",
     "text": [
      "{'name': 'All Too Well', 'title': 'Taylor Swift'}\n",
      "{'name': 'Roar', 'title': 'Katy Perry'}\n",
      "{'name': 'Dancing Queen', 'title': 'ABBA'}\n",
      "{'name': 'Water', 'title': 'Tyla'}\n"
     ]
    }
   ],
   "source": [
    "# 8-7 Album\n",
    "def make_album(name, title, num_songs=None):\n",
    "    dict = {}\n",
    "    dict['name'] = name\n",
    "    dict['title'] = title \n",
    "    return dict\n",
    "\n",
    "album1 = make_album('All Too Well', 'Taylor Swift')\n",
    "album2 = make_album('Roar', 'Katy Perry')\n",
    "album3 = make_album('Dancing Queen', 'ABBA')\n",
    "album4 = make_album('Water', 'Tyla', 4)\n",
    "\n",
    "print(album1)\n",
    "print(album2)\n",
    "print(album3)\n",
    "print(album4)"
   ]
  },
  {
   "cell_type": "code",
   "execution_count": null,
   "id": "862c9630",
   "metadata": {},
   "outputs": [],
   "source": []
  }
 ],
 "metadata": {
  "kernelspec": {
   "display_name": "Python 3 (ipykernel)",
   "language": "python",
   "name": "python3"
  },
  "language_info": {
   "codemirror_mode": {
    "name": "ipython",
    "version": 3
   },
   "file_extension": ".py",
   "mimetype": "text/x-python",
   "name": "python",
   "nbconvert_exporter": "python",
   "pygments_lexer": "ipython3",
   "version": "3.11.4"
  }
 },
 "nbformat": 4,
 "nbformat_minor": 5
}
