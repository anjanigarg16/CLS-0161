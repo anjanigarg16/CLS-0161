{
 "cells": [
  {
   "cell_type": "markdown",
   "id": "4720c4be",
   "metadata": {},
   "source": [
    "## Chapter 2 Homework\n"
   ]
  },
  {
   "cell_type": "markdown",
   "id": "bb2c3729",
   "metadata": {},
   "source": [
    "## 2-1"
   ]
  },
  {
   "cell_type": "code",
   "execution_count": 2,
   "id": "5e5ab901",
   "metadata": {},
   "outputs": [
    {
     "name": "stdout",
     "output_type": "stream",
     "text": [
      "Hi, I am Anjani!\n"
     ]
    }
   ],
   "source": [
    "first_message = \"Hi, I am Anjani!\"\n",
    "print(first_message)"
   ]
  },
  {
   "cell_type": "markdown",
   "id": "8682e5da",
   "metadata": {},
   "source": [
    "## 2-2"
   ]
  },
  {
   "cell_type": "code",
   "execution_count": 3,
   "id": "f53b023a",
   "metadata": {},
   "outputs": [
    {
     "name": "stdout",
     "output_type": "stream",
     "text": [
      "Hi, I am Anjani!\n",
      "Hi, I am NOT Anjani!\n"
     ]
    }
   ],
   "source": [
    "first_message = \"Hi, I am Anjani!\"\n",
    "print(first_message)\n",
    "first_message = \"Hi, I am NOT Anjani!\"\n",
    "print(first_message)\n"
   ]
  },
  {
   "cell_type": "markdown",
   "id": "6c1c625f",
   "metadata": {},
   "source": [
    "## 2-3 (This program prints that my name is beautiful!) "
   ]
  },
  {
   "cell_type": "code",
   "execution_count": 7,
   "id": "0c4f7f07",
   "metadata": {},
   "outputs": [
    {
     "name": "stdout",
     "output_type": "stream",
     "text": [
      "Anjani ,is a beautiful name!\n"
     ]
    }
   ],
   "source": [
    "name=\"Anjani\" \n",
    "print(name,\",is a beautiful name!\") "
   ]
  },
  {
   "cell_type": "markdown",
   "id": "6ba1d3d0",
   "metadata": {},
   "source": [
    "## 2-4"
   ]
  },
  {
   "cell_type": "code",
   "execution_count": 9,
   "id": "5a07da15",
   "metadata": {},
   "outputs": [
    {
     "name": "stdout",
     "output_type": "stream",
     "text": [
      "Anjani Garg\n",
      "anjani garg\n",
      "ANJANI GARG\n"
     ]
    }
   ],
   "source": [
    "name = \"Anjani Garg\"\n",
    "print(name)\n",
    "print(name.lower())\n",
    "print(name.upper())\n"
   ]
  },
  {
   "cell_type": "markdown",
   "id": "d5eeca63",
   "metadata": {},
   "source": [
    "## 2-5"
   ]
  },
  {
   "cell_type": "code",
   "execution_count": 10,
   "id": "020f7324",
   "metadata": {},
   "outputs": [
    {
     "name": "stdout",
     "output_type": "stream",
     "text": [
      "Audrey Hepburn once said, 'nothing is impossible, the word itself says ‘I’m possible’!'' \n"
     ]
    }
   ],
   "source": [
    "print(\"Audrey Hepburn once said, 'nothing is impossible, the word itself says ‘I’m possible’!'' \") \n"
   ]
  },
  {
   "cell_type": "markdown",
   "id": "4e12cc2c",
   "metadata": {},
   "source": [
    "## 2-6 "
   ]
  },
  {
   "cell_type": "code",
   "execution_count": 14,
   "id": "d460578c",
   "metadata": {},
   "outputs": [
    {
     "name": "stdout",
     "output_type": "stream",
     "text": [
      "Audrey Hepburn once said, 'nothing is impossible, the word itself says ‘I’m possible’!'\n"
     ]
    }
   ],
   "source": [
    "famous_person = \"Audrey Hepburn\" \n",
    "message = \"once said, 'nothing is impossible, the word itself says ‘I’m possible’!'\"\n",
    "print(famous_person, message)"
   ]
  },
  {
   "cell_type": "code",
   "execution_count": 17,
   "id": "fdaaa926",
   "metadata": {},
   "outputs": [
    {
     "name": "stdout",
     "output_type": "stream",
     "text": [
      "A\n",
      "n\n",
      "j\n",
      "a\n",
      "n\n",
      "i\n"
     ]
    }
   ],
   "source": [
    "print(\"A\\nn\\nj\\na\\nn\\ni\")\n"
   ]
  },
  {
   "cell_type": "code",
   "execution_count": null,
   "id": "1a88bbd9",
   "metadata": {},
   "outputs": [],
   "source": []
  }
 ],
 "metadata": {
  "kernelspec": {
   "display_name": "Python 3 (ipykernel)",
   "language": "python",
   "name": "python3"
  },
  "language_info": {
   "codemirror_mode": {
    "name": "ipython",
    "version": 3
   },
   "file_extension": ".py",
   "mimetype": "text/x-python",
   "name": "python",
   "nbconvert_exporter": "python",
   "pygments_lexer": "ipython3",
   "version": "3.11.4"
  }
 },
 "nbformat": 4,
 "nbformat_minor": 5
}
