{
 "cells": [
  {
   "cell_type": "markdown",
   "id": "9e0bd4fb",
   "metadata": {},
   "source": [
    "5-1, 5-2, 5-6, 5-7, 5-8, 5-9, 5-10"
   ]
  },
  {
   "cell_type": "code",
   "execution_count": 8,
   "id": "9258f1e5",
   "metadata": {},
   "outputs": [
    {
     "name": "stdout",
     "output_type": "stream",
     "text": [
      "Is animal == 'dog'? I predict True.\n",
      "True\n",
      "\n",
      "Is animal =='cat'? I predict False.\n",
      "False\n",
      "Is the animal == 'frog'? I predict False.\n",
      "False\n",
      "Is the animal == 'snail'? I predict False.\n",
      "False\n",
      "Is the animal == 'fish'? I predict False.\n",
      "False\n",
      "Is the animal == 'bull'? I predict False.\n",
      "False\n",
      "Is the animal == 'hamster'? I predict False.\n",
      "False\n",
      "Is the first letter of animal name == 'D'? I predict True.\n",
      "True\n",
      "Is the full name of animal == 'Dog'? I predict True.\n",
      "True\n",
      "How about capitalization of animal == 'DOG' work? I predict True.\n",
      "True\n",
      "How about all lowercase of animal name? Does full name == 'dog' work? I predict True.\n",
      "True\n",
      "Is full animal name back to original 'Dog'? I predict True.\n",
      "True\n"
     ]
    }
   ],
   "source": [
    "animal = 'dog'\n",
    "print(\"Is animal == 'dog'? I predict True.\") \n",
    "print(animal == 'dog')\n",
    "print(\"\\nIs animal =='cat'? I predict False.\")\n",
    "print(animal == 'cat') \n",
    "\n",
    "##False tests \n",
    "print(\"Is the animal == 'frog'? I predict False.\")\n",
    "print(animal == 'frog')\n",
    "\n",
    "print(\"Is the animal == 'snail'? I predict False.\")\n",
    "print(animal == 'snail')\n",
    "\n",
    "print(\"Is the animal == 'fish'? I predict False.\")\n",
    "print(animal == 'fish')\n",
    "\n",
    "print(\"Is the animal == 'bull'? I predict False.\")\n",
    "print(animal == 'bull')\n",
    "\n",
    "print(\"Is the animal == 'hamster'? I predict False.\")\n",
    "print(animal == 'hamster')\n",
    "\n",
    "##True Tests \n",
    "print(\"Is the first letter of animal name == 'D'? I predict True.\")\n",
    "print(animal[0] == 'd')\n",
    "\n",
    "print(\"Is the full name of animal == 'Dog'? I predict True.\")\n",
    "print(animal == 'dog')\n",
    "\n",
    "animal = animal.upper()\n",
    "print(\"How about capitalization of animal == 'DOG' work? I predict True.\")\n",
    "print(animal == 'DOG')\n",
    "\n",
    "animal = animal.lower()\n",
    "print(\"How about all lowercase of animal name? Does full name == 'dog' work? I predict True.\")\n",
    "print(animal == 'dog')\n",
    "\n",
    "animal = animal.title()\n",
    "print(\"Is full animal name back to original 'Dog'? I predict True.\")\n",
    "print(animal == 'Dog')\n",
    "\n",
    "\n"
   ]
  },
  {
   "cell_type": "code",
   "execution_count": 9,
   "id": "82ae0873",
   "metadata": {},
   "outputs": [
    {
     "name": "stdout",
     "output_type": "stream",
     "text": [
      "The person is a teenager.\n"
     ]
    }
   ],
   "source": [
    "age = 14\n",
    "\n",
    "if(age < 2):\n",
    "    print(\"The person is a baby.\")\n",
    "elif (2 <= age and age < 4):\n",
    "    print(\"The person is a toddler.\")\n",
    "elif(4 <= age and age < 13):\n",
    "    print(\"The person is a kid.\")\n",
    "elif(13 <= age and age < 20):\n",
    "    print(\"The person is a teenager.\")\n",
    "elif(20 <= age and age < 65):\n",
    "    print(\"The person is an adult.\")\n",
    "elif(65 <= age):\n",
    "    print(\"The person is an elder.\")"
   ]
  },
  {
   "cell_type": "code",
   "execution_count": 11,
   "id": "af815000",
   "metadata": {},
   "outputs": [
    {
     "name": "stdout",
     "output_type": "stream",
     "text": [
      "You really like apples!\n",
      "You really like pineapples!\n",
      "You really like watermelon!\n"
     ]
    }
   ],
   "source": [
    "favorite_fruits = ['apple', 'kiwi', 'cherry']\n",
    "\n",
    "if 'apple' in favorite_fruits:\n",
    "    print(\"You really like apples!\")\n",
    "\n",
    "if 'kiwi' in favorite_fruits:\n",
    "    print(\"You really like pineapples!\")\n",
    "\n",
    "if 'cherry' in favorite_fruits:\n",
    "    print(\"You really like watermelon!\")\n",
    "\n",
    "if 'grapes' in favorite_fruits:\n",
    "    print(\"You really like grapes!\")\n",
    "\n",
    "if 'orange' in favorite_fruits:\n",
    "    print(\"You really like mangos!\")"
   ]
  },
  {
   "cell_type": "code",
   "execution_count": 22,
   "id": "6ecf66ed",
   "metadata": {},
   "outputs": [
    {
     "name": "stdout",
     "output_type": "stream",
     "text": [
      "Hello admin, would you like to see a status report?\n",
      "Hello anjani, thank you for logging in again.\n"
     ]
    }
   ],
   "source": [
    "users = [\"maheer\", \"veronica\", \"rama\", \"admin\", \"anjani\"]\n",
    "for user in users: \n",
    "    if user == \"admin\":\n",
    "        print(\"Hello admin, would you like to see a status report?\") \n",
    "else: \n",
    "    print(\"Hello \" + user + \", thank you for logging in again.\")\n"
   ]
  },
  {
   "cell_type": "code",
   "execution_count": 24,
   "id": "0538970a",
   "metadata": {},
   "outputs": [
    {
     "name": "stdout",
     "output_type": "stream",
     "text": [
      "We need to find some users!\n"
     ]
    }
   ],
   "source": [
    "users = [\"maheer\", \"veronica\", \"rama\", \"admin\", \"anjani\"]\n",
    "users.clear()\n",
    "\n",
    "for user in users: \n",
    "    if user == \"admin\":\n",
    "        print(\"Hello admin, would you like to see a status report?\") \n",
    "    else: \n",
    "        print(\"Hello \" + user + \", thank you for logging in again.\")\n",
    "        \n",
    "else: \n",
    "    print(\"We need to find some users!\")\n",
    "    \n"
   ]
  },
  {
   "cell_type": "code",
   "execution_count": 25,
   "id": "c41a4f23",
   "metadata": {},
   "outputs": [
    {
     "name": "stdout",
     "output_type": "stream",
     "text": [
      "This username is not available. Please enter a new username.\n",
      "This username is not available. Please enter a new username.\n",
      "This username is available!\n",
      "This username is available!\n",
      "This username is available!\n"
     ]
    }
   ],
   "source": [
    "current_users = [\"maheer\", \"veronica\", \"rama\", \"admin\", \"anjani\"] \n",
    "new_users = [\"maheer\", \"veronica\", \"haley\", \"saesha\", \"mehr\"] \n",
    "\n",
    "for user in new_users:\n",
    "    if user in current_users:\n",
    "        print(\"This username is not available. Please enter a new username.\")\n",
    "    else: \n",
    "        print(\"This username is available!\")\n",
    "        "
   ]
  },
  {
   "cell_type": "code",
   "execution_count": null,
   "id": "9adcb2c7",
   "metadata": {},
   "outputs": [],
   "source": []
  }
 ],
 "metadata": {
  "kernelspec": {
   "display_name": "Python 3 (ipykernel)",
   "language": "python",
   "name": "python3"
  },
  "language_info": {
   "codemirror_mode": {
    "name": "ipython",
    "version": 3
   },
   "file_extension": ".py",
   "mimetype": "text/x-python",
   "name": "python",
   "nbconvert_exporter": "python",
   "pygments_lexer": "ipython3",
   "version": "3.11.4"
  }
 },
 "nbformat": 4,
 "nbformat_minor": 5
}
