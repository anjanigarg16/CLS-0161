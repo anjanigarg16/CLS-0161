{
 "cells": [
  {
   "cell_type": "markdown",
   "id": "b860e760",
   "metadata": {},
   "source": [
    "## Dictionaries"
   ]
  },
  {
   "cell_type": "code",
   "execution_count": 1,
   "id": "c32acb19",
   "metadata": {},
   "outputs": [
    {
     "ename": "NameError",
     "evalue": "name 'value' is not defined",
     "output_type": "error",
     "traceback": [
      "\u001b[0;31m---------------------------------------------------------------------------\u001b[0m",
      "\u001b[0;31mNameError\u001b[0m                                 Traceback (most recent call last)",
      "Cell \u001b[0;32mIn[1], line 1\u001b[0m\n\u001b[0;32m----> 1\u001b[0m \u001b[38;5;28mdict\u001b[39m \u001b[38;5;241m=\u001b[39m {\u001b[38;5;124m\"\u001b[39m\u001b[38;5;124mkey\u001b[39m\u001b[38;5;124m\"\u001b[39m: value}\n",
      "\u001b[0;31mNameError\u001b[0m: name 'value' is not defined"
     ]
    }
   ],
   "source": [
    "dict = {\"key\": value}"
   ]
  },
  {
   "cell_type": "code",
   "execution_count": 2,
   "id": "f66cb9a7",
   "metadata": {},
   "outputs": [],
   "source": [
    "Bulter = {\"genre\" : \"science fiction\", \"award\" : \"hugo\"}"
   ]
  },
  {
   "cell_type": "code",
   "execution_count": 4,
   "id": "99505791",
   "metadata": {},
   "outputs": [
    {
     "name": "stdout",
     "output_type": "stream",
     "text": [
      "science fiction\n"
     ]
    }
   ],
   "source": [
    "##access information \n",
    "\n",
    "print(Bulter[\"genre\"])"
   ]
  },
  {
   "cell_type": "code",
   "execution_count": 6,
   "id": "887c90b9",
   "metadata": {},
   "outputs": [
    {
     "name": "stdout",
     "output_type": "stream",
     "text": [
      "hugo\n"
     ]
    }
   ],
   "source": [
    "print(Bulter[\"award\"])"
   ]
  },
  {
   "cell_type": "code",
   "execution_count": 14,
   "id": "3c51e39b",
   "metadata": {},
   "outputs": [
    {
     "ename": "TypeError",
     "evalue": "'dict' object is not callable",
     "output_type": "error",
     "traceback": [
      "\u001b[0;31m---------------------------------------------------------------------------\u001b[0m",
      "\u001b[0;31mTypeError\u001b[0m                                 Traceback (most recent call last)",
      "Cell \u001b[0;32mIn[14], line 1\u001b[0m\n\u001b[0;32m----> 1\u001b[0m Bulter(\u001b[38;5;124m\"\u001b[39m\u001b[38;5;124mbirth_year\u001b[39m\u001b[38;5;124m\"\u001b[39m) \u001b[38;5;241m==\u001b[39m \u001b[38;5;241m1947\u001b[39m\n",
      "\u001b[0;31mTypeError\u001b[0m: 'dict' object is not callable"
     ]
    }
   ],
   "source": [
    "Bulter(\"birth_year\") == 1947"
   ]
  },
  {
   "cell_type": "code",
   "execution_count": 24,
   "id": "2da9220f",
   "metadata": {},
   "outputs": [],
   "source": [
    "Robinson[\"genre\"] = \"science fiction\""
   ]
  },
  {
   "cell_type": "code",
   "execution_count": 18,
   "id": "b62d19ea",
   "metadata": {},
   "outputs": [
    {
     "name": "stdout",
     "output_type": "stream",
     "text": [
      "{'genre': 'science fiction'}\n"
     ]
    }
   ],
   "source": [
    "print(Robinson)"
   ]
  },
  {
   "cell_type": "code",
   "execution_count": 25,
   "id": "37be3284",
   "metadata": {},
   "outputs": [],
   "source": [
    "Robinson[\"award\"] = \"hugo\""
   ]
  },
  {
   "cell_type": "code",
   "execution_count": 27,
   "id": "2899e743",
   "metadata": {},
   "outputs": [
    {
     "name": "stdout",
     "output_type": "stream",
     "text": [
      "{'genre': 'science fiction', 'award': 'hugo'}\n"
     ]
    }
   ],
   "source": [
    "print(Robinson)"
   ]
  },
  {
   "cell_type": "code",
   "execution_count": 30,
   "id": "39d2f56d",
   "metadata": {},
   "outputs": [
    {
     "name": "stdout",
     "output_type": "stream",
     "text": [
      "genre\n",
      "award\n"
     ]
    }
   ],
   "source": [
    "##Moving through a dictionary \n",
    "\n",
    "for key in Bulter.keys():\n",
    "    print(key)"
   ]
  },
  {
   "cell_type": "code",
   "execution_count": 32,
   "id": "ea0ea060",
   "metadata": {},
   "outputs": [
    {
     "name": "stdout",
     "output_type": "stream",
     "text": [
      "science fiction\n",
      "hugo\n"
     ]
    }
   ],
   "source": [
    "for v in Bulter.values(): \n",
    "    print(v)"
   ]
  },
  {
   "cell_type": "code",
   "execution_count": 33,
   "id": "5b41c1a2",
   "metadata": {},
   "outputs": [
    {
     "name": "stdout",
     "output_type": "stream",
     "text": [
      "genre science fiction\n",
      "award hugo\n"
     ]
    }
   ],
   "source": [
    "for k, v in Bulter.items(): \n",
    "    print (k,v)"
   ]
  },
  {
   "cell_type": "markdown",
   "id": "e40207d0",
   "metadata": {},
   "source": [
    "List of Dictionaries "
   ]
  },
  {
   "cell_type": "code",
   "execution_count": 34,
   "id": "15dea1db",
   "metadata": {},
   "outputs": [],
   "source": [
    "sf_authors = [Bulter, Robinson]"
   ]
  },
  {
   "cell_type": "code",
   "execution_count": 35,
   "id": "6786e1ad",
   "metadata": {},
   "outputs": [
    {
     "name": "stdout",
     "output_type": "stream",
     "text": [
      "[{'genre': 'science fiction', 'award': 'hugo'}, {'genre': 'science fiction', 'award': 'hugo'}]\n"
     ]
    }
   ],
   "source": [
    "print(sf_authors)"
   ]
  },
  {
   "cell_type": "markdown",
   "id": "caba37ca",
   "metadata": {},
   "source": [
    "## Word Counter"
   ]
  },
  {
   "cell_type": "code",
   "execution_count": 37,
   "id": "0189351b",
   "metadata": {},
   "outputs": [],
   "source": [
    "import requests "
   ]
  },
  {
   "cell_type": "raw",
   "id": "807d402d",
   "metadata": {},
   "source": [
    "url = 'https://www.britishairways.com/travel/book/public/en_us/flightSummaryurl'"
   ]
  },
  {
   "cell_type": "code",
   "execution_count": 39,
   "id": "d529ff25",
   "metadata": {},
   "outputs": [
    {
     "ename": "NameError",
     "evalue": "name 'url' is not defined",
     "output_type": "error",
     "traceback": [
      "\u001b[0;31m---------------------------------------------------------------------------\u001b[0m",
      "\u001b[0;31mNameError\u001b[0m                                 Traceback (most recent call last)",
      "Cell \u001b[0;32mIn[39], line 1\u001b[0m\n\u001b[0;32m----> 1\u001b[0m response \u001b[38;5;241m=\u001b[39m requests\u001b[38;5;241m.\u001b[39mget(url)\n",
      "\u001b[0;31mNameError\u001b[0m: name 'url' is not defined"
     ]
    }
   ],
   "source": [
    "response = requests.get(url)"
   ]
  },
  {
   "cell_type": "code",
   "execution_count": 40,
   "id": "d6cb855b",
   "metadata": {},
   "outputs": [
    {
     "ename": "NameError",
     "evalue": "name 'response' is not defined",
     "output_type": "error",
     "traceback": [
      "\u001b[0;31m---------------------------------------------------------------------------\u001b[0m",
      "\u001b[0;31mNameError\u001b[0m                                 Traceback (most recent call last)",
      "Cell \u001b[0;32mIn[40], line 1\u001b[0m\n\u001b[0;32m----> 1\u001b[0m test \u001b[38;5;241m=\u001b[39m response\u001b[38;5;241m.\u001b[39mtext\n",
      "\u001b[0;31mNameError\u001b[0m: name 'response' is not defined"
     ]
    }
   ],
   "source": [
    "test = response.text"
   ]
  },
  {
   "cell_type": "code",
   "execution_count": 41,
   "id": "52f9687f",
   "metadata": {},
   "outputs": [
    {
     "ename": "NameError",
     "evalue": "name 'text' is not defined",
     "output_type": "error",
     "traceback": [
      "\u001b[0;31m---------------------------------------------------------------------------\u001b[0m",
      "\u001b[0;31mNameError\u001b[0m                                 Traceback (most recent call last)",
      "Cell \u001b[0;32mIn[41], line 1\u001b[0m\n\u001b[0;32m----> 1\u001b[0m text[\u001b[38;5;241m200\u001b[39m]\n",
      "\u001b[0;31mNameError\u001b[0m: name 'text' is not defined"
     ]
    }
   ],
   "source": [
    "text[200]"
   ]
  },
  {
   "cell_type": "code",
   "execution_count": 42,
   "id": "c35ed06e",
   "metadata": {},
   "outputs": [],
   "source": [
    "word_count = [] "
   ]
  },
  {
   "cell_type": "code",
   "execution_count": null,
   "id": "12c6c1dc",
   "metadata": {},
   "outputs": [],
   "source": []
  }
 ],
 "metadata": {
  "kernelspec": {
   "display_name": "Python 3 (ipykernel)",
   "language": "python",
   "name": "python3"
  },
  "language_info": {
   "codemirror_mode": {
    "name": "ipython",
    "version": 3
   },
   "file_extension": ".py",
   "mimetype": "text/x-python",
   "name": "python",
   "nbconvert_exporter": "python",
   "pygments_lexer": "ipython3",
   "version": "3.11.4"
  }
 },
 "nbformat": 4,
 "nbformat_minor": 5
}
