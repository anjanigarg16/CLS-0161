{
 "cells": [
  {
   "cell_type": "markdown",
   "id": "c0954e42",
   "metadata": {},
   "source": [
    "## Conditionals "
   ]
  },
  {
   "cell_type": "code",
   "execution_count": 2,
   "id": "be542c4c",
   "metadata": {},
   "outputs": [],
   "source": [
    "list_of_list = [[\"a\", \"b\", \"c\"], [1,2,3]]"
   ]
  },
  {
   "cell_type": "code",
   "execution_count": 4,
   "id": "7bb3e784",
   "metadata": {},
   "outputs": [
    {
     "data": {
      "text/plain": [
       "2"
      ]
     },
     "execution_count": 4,
     "metadata": {},
     "output_type": "execute_result"
    }
   ],
   "source": [
    "len(list_of_list)"
   ]
  },
  {
   "cell_type": "code",
   "execution_count": 5,
   "id": "bbf28ab3",
   "metadata": {},
   "outputs": [
    {
     "name": "stdout",
     "output_type": "stream",
     "text": [
      "['a', 'b', 'c']\n"
     ]
    }
   ],
   "source": [
    "print(list_of_list[0])"
   ]
  },
  {
   "cell_type": "code",
   "execution_count": 6,
   "id": "c457b1b9",
   "metadata": {},
   "outputs": [
    {
     "name": "stdout",
     "output_type": "stream",
     "text": [
      "2\n"
     ]
    }
   ],
   "source": [
    "print(list_of_list[1][1])"
   ]
  },
  {
   "cell_type": "markdown",
   "id": "50ede764",
   "metadata": {},
   "source": [
    "## Markdowns "
   ]
  },
  {
   "cell_type": "code",
   "execution_count": 7,
   "id": "501e835e",
   "metadata": {},
   "outputs": [],
   "source": [
    "a = True\n",
    "b = False"
   ]
  },
  {
   "cell_type": "code",
   "execution_count": 8,
   "id": "4d3871bb",
   "metadata": {},
   "outputs": [
    {
     "name": "stdout",
     "output_type": "stream",
     "text": [
      "<class 'bool'>\n",
      "<class 'bool'>\n"
     ]
    }
   ],
   "source": [
    "print(type(a)) \n",
    "print(type(b))"
   ]
  },
  {
   "cell_type": "code",
   "execution_count": 9,
   "id": "3bec3968",
   "metadata": {},
   "outputs": [
    {
     "name": "stdout",
     "output_type": "stream",
     "text": [
      "False\n"
     ]
    }
   ],
   "source": [
    "print(7 == 10)"
   ]
  },
  {
   "cell_type": "code",
   "execution_count": 10,
   "id": "bd3fb7f0",
   "metadata": {},
   "outputs": [
    {
     "name": "stdout",
     "output_type": "stream",
     "text": [
      "False\n"
     ]
    }
   ],
   "source": [
    "print(7 > 10)"
   ]
  },
  {
   "cell_type": "code",
   "execution_count": 11,
   "id": "afaa8500",
   "metadata": {},
   "outputs": [
    {
     "data": {
      "text/plain": [
       "True"
      ]
     },
     "execution_count": 11,
     "metadata": {},
     "output_type": "execute_result"
    }
   ],
   "source": [
    "c = 18\n",
    "c == 18 "
   ]
  },
  {
   "cell_type": "code",
   "execution_count": 13,
   "id": "42c5bcda",
   "metadata": {},
   "outputs": [
    {
     "name": "stdout",
     "output_type": "stream",
     "text": [
      "True\n"
     ]
    }
   ],
   "source": [
    "print(\"Gibby\" == \"Gibby\")"
   ]
  },
  {
   "cell_type": "code",
   "execution_count": 16,
   "id": "3bf42a65",
   "metadata": {},
   "outputs": [
    {
     "name": "stdout",
     "output_type": "stream",
     "text": [
      "False\n"
     ]
    }
   ],
   "source": [
    "print(\"Gibbon\" == \"gibbon\" )"
   ]
  },
  {
   "cell_type": "code",
   "execution_count": 17,
   "id": "0f75f6cd",
   "metadata": {},
   "outputs": [],
   "source": [
    "historians = [\"gibbon\", \"socrates\", \"lepore\"]"
   ]
  },
  {
   "cell_type": "code",
   "execution_count": 19,
   "id": "3e0a619e",
   "metadata": {},
   "outputs": [
    {
     "name": "stdout",
     "output_type": "stream",
     "text": [
      "True\n"
     ]
    }
   ],
   "source": [
    "print(\"gibbon\" in historians)"
   ]
  },
  {
   "cell_type": "markdown",
   "id": "3f057a2f",
   "metadata": {},
   "source": [
    "## Conditionals "
   ]
  },
  {
   "cell_type": "code",
   "execution_count": 42,
   "id": "54ff57d7",
   "metadata": {},
   "outputs": [],
   "source": [
    "age = 18"
   ]
  },
  {
   "cell_type": "code",
   "execution_count": 43,
   "id": "ec65ec04",
   "metadata": {},
   "outputs": [
    {
     "name": "stdout",
     "output_type": "stream",
     "text": [
      "Happy birthday, welcome to democracy\n"
     ]
    }
   ],
   "source": [
    "if age > 18:\n",
    "    print(\"You are old enough to vote.\") \n",
    "elif age == 18: \n",
    "    print(\"Happy birthday, welcome to democracy\")\n",
    "else: \n",
    "    print(\"You are too young to vote\")"
   ]
  },
  {
   "cell_type": "code",
   "execution_count": 45,
   "id": "801b7e85",
   "metadata": {},
   "outputs": [
    {
     "data": {
      "text/plain": [
       "True"
      ]
     },
     "execution_count": 45,
     "metadata": {},
     "output_type": "execute_result"
    }
   ],
   "source": [
    "(7 != 10) and (7<10)"
   ]
  },
  {
   "cell_type": "code",
   "execution_count": 51,
   "id": "98323da2",
   "metadata": {},
   "outputs": [
    {
     "name": "stdout",
     "output_type": "stream",
     "text": [
      "Gibbon is in list\n",
      "Gibbon is not in list\n",
      "Gibbon is not in list\n"
     ]
    }
   ],
   "source": [
    "for historians in historians: \n",
    "    if historians == \"Gibbon\" or historians == \"gibbon\":\n",
    "        print(\"Gibbon is in list\")\n",
    "    else:\n",
    "         print(\"Gibbon is not in list\")"
   ]
  },
  {
   "cell_type": "code",
   "execution_count": null,
   "id": "27fab011",
   "metadata": {},
   "outputs": [],
   "source": []
  }
 ],
 "metadata": {
  "kernelspec": {
   "display_name": "Python 3 (ipykernel)",
   "language": "python",
   "name": "python3"
  },
  "language_info": {
   "codemirror_mode": {
    "name": "ipython",
    "version": 3
   },
   "file_extension": ".py",
   "mimetype": "text/x-python",
   "name": "python",
   "nbconvert_exporter": "python",
   "pygments_lexer": "ipython3",
   "version": "3.11.4"
  }
 },
 "nbformat": 4,
 "nbformat_minor": 5
}
