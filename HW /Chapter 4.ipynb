{
 "cells": [
  {
   "cell_type": "code",
   "execution_count": 1,
   "id": "46fcb539",
   "metadata": {},
   "outputs": [
    {
     "name": "stdout",
     "output_type": "stream",
     "text": [
      "Margherita\n",
      "Pepperoni\n",
      "Vegetables\n"
     ]
    }
   ],
   "source": [
    "favpizza = (\"Margherita\", \"Pepperoni\", \"Vegetables\") \n",
    "for pizza in favpizza: \n",
    "    print(pizza) \n",
    "\n"
   ]
  },
  {
   "cell_type": "code",
   "execution_count": 3,
   "id": "38056188",
   "metadata": {},
   "outputs": [
    {
     "name": "stdout",
     "output_type": "stream",
     "text": [
      "I like  Margherita\n",
      "I like  Pepperoni\n",
      "I like  Vegetables\n"
     ]
    }
   ],
   "source": [
    "favpizza = (\"Margherita\", \"Pepperoni\", \"Vegetables\") \n",
    "for pizza in favpizza: \n",
    "    print(\"I like \", pizza)"
   ]
  },
  {
   "cell_type": "code",
   "execution_count": 4,
   "id": "8dbe8c81",
   "metadata": {},
   "outputs": [
    {
     "name": "stdout",
     "output_type": "stream",
     "text": [
      "I like  Margherita\n",
      "I like  Pepperoni\n",
      "I like  Vegetables\n",
      "I really like pizza because of the different flavors of tomato, cheese and the additonal toppings. I really love Pizza! \n"
     ]
    }
   ],
   "source": [
    " favpizza = (\"Margherita\", \"Pepperoni\", \"Vegetables\") \n",
    "for pizza in favpizza: \n",
    "    print(\"I like \", pizza)\n",
    "    \n",
    "print(\"I really like pizza because of the different flavors of tomato, cheese and the additonal toppings. I really love Pizza! \")"
   ]
  },
  {
   "cell_type": "code",
   "execution_count": 10,
   "id": "ea4d901c",
   "metadata": {},
   "outputs": [
    {
     "name": "stdout",
     "output_type": "stream",
     "text": [
      "Zebra\n",
      "Lion\n",
      "Rhino\n"
     ]
    }
   ],
   "source": [
    "animals=['Zebra', 'Lion', 'Rhino']\n",
    "for animal in animals:\n",
    "    print(animal.title())"
   ]
  },
  {
   "cell_type": "code",
   "execution_count": 14,
   "id": "51efec39",
   "metadata": {},
   "outputs": [
    {
     "name": "stdout",
     "output_type": "stream",
     "text": [
      "A Zebra is a cool animal!\n",
      "A Lion is a cool animal!\n",
      "A Rhino is a cool animal!\n"
     ]
    }
   ],
   "source": [
    "animals=['Zebra', 'Lion', 'Rhino']\n",
    "for animal in animals:\n",
    "    print(\"A \" + animal.title() + \" is a cool animal!\")"
   ]
  },
  {
   "cell_type": "code",
   "execution_count": 15,
   "id": "3a173f9a",
   "metadata": {},
   "outputs": [
    {
     "name": "stdout",
     "output_type": "stream",
     "text": [
      "A Zebra is a cool animal!\n",
      "A Lion is a cool animal!\n",
      "A Rhino is a cool animal!\n",
      "All of them are found in a safari!\n"
     ]
    }
   ],
   "source": [
    "animals=['Zebra', 'Lion', 'Rhino']\n",
    "for animal in animals:\n",
    "    print(\"A \" + animal.title() + \" is a cool animal!\")\n",
    "print(\"All of them are found in a safari!\")"
   ]
  },
  {
   "cell_type": "code",
   "execution_count": 17,
   "id": "4aa3d622",
   "metadata": {},
   "outputs": [
    {
     "name": "stdout",
     "output_type": "stream",
     "text": [
      "1\n",
      "2\n",
      "3\n",
      "4\n",
      "5\n",
      "6\n",
      "7\n",
      "8\n",
      "9\n",
      "10\n",
      "11\n",
      "12\n",
      "13\n",
      "14\n",
      "15\n",
      "16\n",
      "17\n",
      "18\n",
      "19\n",
      "20\n"
     ]
    }
   ],
   "source": [
    "for number in range(1,21):\n",
    "    print(number)"
   ]
  },
  {
   "cell_type": "code",
   "execution_count": 19,
   "id": "5ce78eb3",
   "metadata": {},
   "outputs": [
    {
     "name": "stdout",
     "output_type": "stream",
     "text": [
      "1\n",
      "3\n",
      "5\n",
      "7\n",
      "9\n",
      "11\n",
      "13\n",
      "15\n",
      "17\n",
      "19\n"
     ]
    }
   ],
   "source": [
    "oddnumbers = list(range(1,20,2))\n",
    "for number in oddnumbers:\n",
    "    print(number)"
   ]
  },
  {
   "cell_type": "code",
   "execution_count": 20,
   "id": "84df1148",
   "metadata": {},
   "outputs": [
    {
     "name": "stdout",
     "output_type": "stream",
     "text": [
      "The first three items in the list are:\n",
      "['Zebra', 'Lion', 'Rhino']\n"
     ]
    }
   ],
   "source": [
    "print(\"The first three items in the list are:\")\n",
    "animals=['Zebra', 'Lion', 'Rhino', 'Tiger', 'Jagar', 'Giraffe', 'Hippo',]\n",
    "print(animals[0:3])"
   ]
  },
  {
   "cell_type": "code",
   "execution_count": 22,
   "id": "825af8dc",
   "metadata": {},
   "outputs": [
    {
     "name": "stdout",
     "output_type": "stream",
     "text": [
      "The last three items in the list are:\n",
      "['Tiger', 'Jagar', 'Giraffe']\n"
     ]
    }
   ],
   "source": [
    "print(\"The last three items in the list are:\")\n",
    "animals=['Zebra', 'Lion', 'Rhino', 'Tiger', 'Jagar', 'Giraffe', 'Hippo', \"Flamingo\", \"Cheetah\"]\n",
    "print(animals[3:6])"
   ]
  },
  {
   "cell_type": "code",
   "execution_count": 23,
   "id": "70988840",
   "metadata": {},
   "outputs": [
    {
     "name": "stdout",
     "output_type": "stream",
     "text": [
      "The last three items in the list are:\n",
      "['Hippo', 'Flamingo', 'Cheetah']\n"
     ]
    }
   ],
   "source": [
    "print(\"The last three items in the list are:\")\n",
    "animals=['Zebra', 'Lion', 'Rhino', 'Tiger', 'Jagar', 'Giraffe', 'Hippo', \"Flamingo\", \"Cheetah\"]\n",
    "print(animals[6:9])"
   ]
  },
  {
   "cell_type": "code",
   "execution_count": 33,
   "id": "6723f377",
   "metadata": {},
   "outputs": [
    {
     "name": "stdout",
     "output_type": "stream",
     "text": [
      "My favorite pizzas are:\n",
      "cheese pizza\n",
      "pepperoni pizza\n",
      "sausage pizza\n",
      "veggie pizza\n",
      "\n",
      "My friend's favorite pizzas are:\n",
      "cheese pizza\n",
      "pepperoni pizza\n",
      "sausage pizza\n",
      "hawaiian pizza\n"
     ]
    }
   ],
   "source": [
    "pizzas=['cheese pizza', 'pepperoni pizza', 'sausage pizza']\n",
    "friend_pizzas=pizzas[:]\n",
    "pizzas.append('veggie pizza')\n",
    "friend_pizzas.append('hawaiian pizza')\n",
    "print('My favorite pizzas are:')\n",
    "for pizza in pizzas:\n",
    "    print(pizza)\n",
    "print(\"\\nMy friend's favorite pizzas are:\")\n",
    "for pizza in friend_pizzas:\n",
    "    print(pizza)"
   ]
  },
  {
   "cell_type": "code",
   "execution_count": null,
   "id": "32728890",
   "metadata": {},
   "outputs": [],
   "source": []
  }
 ],
 "metadata": {
  "kernelspec": {
   "display_name": "Python 3 (ipykernel)",
   "language": "python",
   "name": "python3"
  },
  "language_info": {
   "codemirror_mode": {
    "name": "ipython",
    "version": 3
   },
   "file_extension": ".py",
   "mimetype": "text/x-python",
   "name": "python",
   "nbconvert_exporter": "python",
   "pygments_lexer": "ipython3",
   "version": "3.11.4"
  }
 },
 "nbformat": 4,
 "nbformat_minor": 5
}
